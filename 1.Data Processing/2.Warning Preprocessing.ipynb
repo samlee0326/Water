{
 "cells": [
  {
   "cell_type": "code",
   "execution_count": 1,
   "metadata": {},
   "outputs": [],
   "source": [
    "import pandas as pd\n",
    "import glob\n",
    "import re\n",
    "from tqdm import tqdm"
   ]
  },
  {
   "cell_type": "code",
   "execution_count": 2,
   "metadata": {},
   "outputs": [],
   "source": [
    "#!pip install openpyxl\n",
    "#Use this if .xls not working\n",
    "\n",
    "# import win32com.client as win32\n",
    "# fname = 'D:\\\\졸논\\\\FCT_WRN_20210308015339.xls'\n",
    "# excel = win32.gencache.EnsureDispatch('Excel.Application')\n",
    "# print('ok..1')\n",
    "# wb = excel.Workbooks.Open(fname)\n",
    "# print('ok..2')\n",
    "# wb.SaveAs(fname+\"x\",FileFormat = 51)\n",
    "# print('ok..3')\n",
    "# wb.Close()\n",
    "# print('ok..4')\n",
    "# excel.Application.Quit()\n",
    "# print('ok..5')\n",
    "# del excel"
   ]
  },
  {
   "cell_type": "code",
   "execution_count": 3,
   "metadata": {},
   "outputs": [],
   "source": [
    "data_loc = glob.glob(r'..//Dam_weather_warning//*.xlsx')"
   ]
  },
  {
   "cell_type": "code",
   "execution_count": 4,
   "metadata": {},
   "outputs": [
    {
     "name": "stdout",
     "output_type": "stream",
     "text": [
      "announced_time (i=0) 2554\n",
      "Effective_time (i=0) 2554\n",
      "Affected_Location (i=0) 2554\n",
      "announced_time i=1 7493\n",
      "Effective_time i=1 7493\n",
      "Affected_Location i=1 7493\n",
      "announced_time i=2 12700\n",
      "Effective_time i=2 12700\n",
      "Affected_Location i=2 12700\n"
     ]
    }
   ],
   "source": [
    "j = 0\n",
    "for data in data_loc:\n",
    "    df = pd.read_excel(data)\n",
    "    \n",
    "    tmp = df['특보통보'].values.tolist()\n",
    "    if j == 0:\n",
    "        #발표시각\n",
    "        announced_time_idx = [i+1 for i,v in enumerate(tmp) if v == '발표시각']\n",
    "        announced_time = [tmp[i] for i in announced_time_idx]\n",
    "        print('announced_time (i=0)',len(announced_time))\n",
    "        #발효시간\n",
    "        Effective_time_idx = [i+1 for i,v in enumerate(tmp) if v == '발효시각']\n",
    "        Effective_time = [tmp[i] for i in Effective_time_idx]\n",
    "        print('Effective_time (i=0)',len(Effective_time))\n",
    "        #해당지역\n",
    "        Affected_Location_idx = [i+1 for i,v in enumerate(tmp) if v == '해당지역']\n",
    "        Affected_Location = [tmp[i] for i in Affected_Location_idx]\n",
    "        print('Affected_Location (i=0)',len(Affected_Location))\n",
    "#         #내용\n",
    "#         Content_idx = [i+1 for i,v in enumerate(tmp) if v == '내용']\n",
    "#         content = [tmp[i] for i in Content_idx]\n",
    "#         print('content (i=0)',len(content))\n",
    "        j+=1\n",
    "    else:\n",
    "        announced_time_idx = [i+1 for i,v in enumerate(tmp) if v == '발표시각']\n",
    "        announced_time.extend([tmp[i] for i in announced_time_idx])\n",
    "        print(f'announced_time i={j}',len(announced_time))\n",
    "        \n",
    "        Effective_time_idx = [i+1 for i,v in enumerate(tmp) if v == '발효시각']\n",
    "        Effective_time.extend([tmp[i] for i in Effective_time_idx])\n",
    "        print(f'Effective_time i={j}',len(Effective_time))\n",
    "        \n",
    "        Affected_Location_idx = [i+1 for i,v in enumerate(tmp) if v == '해당지역']\n",
    "        Affected_Location.extend([tmp[i] for i in Affected_Location_idx])\n",
    "        print(f'Affected_Location i={j}',len(Affected_Location))\n",
    "        \n",
    "#         Content_idx = [i+1 for i,v in enumerate(tmp) if v == '내용']\n",
    "#         content.extend([tmp[i] for i in Content_idx])\n",
    "#         print(f'content i={i}',len(content))\n",
    "        \n",
    "        j += 1"
   ]
  },
  {
   "cell_type": "code",
   "execution_count": 5,
   "metadata": {},
   "outputs": [
    {
     "name": "stdout",
     "output_type": "stream",
     "text": [
      "(12700, 3)\n"
     ]
    }
   ],
   "source": [
    "useful_info = {'Time_a':announced_time,#발표시각\n",
    "              'Time_e':Effective_time, #발효시각\n",
    "              'Location':Affected_Location#,#해당지역\n",
    "              }#'content':content}#내용\n",
    "useful = pd.DataFrame.from_dict(useful_info)\n",
    "print(useful.shape)"
   ]
  },
  {
   "cell_type": "code",
   "execution_count": 6,
   "metadata": {},
   "outputs": [],
   "source": [
    "#Heavy Rain\n",
    "def RAIN_ADV(row):\n",
    "    location = ['춘천','영서','중서']\n",
    "    tt2 = re.split('(\\d)',row['Location'])\n",
    "    for t in tt2:\n",
    "        if (('호우경보'in t)&(any(l for l in location if l in t))): \n",
    "            return 1\n",
    "            break\n",
    "        else:\n",
    "            pass\n",
    "    return 0"
   ]
  },
  {
   "cell_type": "code",
   "execution_count": 7,
   "metadata": {},
   "outputs": [],
   "source": [
    "\"\"\"\n",
    "Extract only heavy rain warning from Chun-Cheon City, Young-seo region, and mid-west area\n",
    "\"\"\"\n",
    "useful['호우경보'] = useful.apply(lambda row: RAIN_ADV(row), axis=1)"
   ]
  },
  {
   "cell_type": "code",
   "execution_count": 8,
   "metadata": {
    "scrolled": true
   },
   "outputs": [],
   "source": [
    "useful = useful[useful['호우경보'] != 0]"
   ]
  },
  {
   "cell_type": "code",
   "execution_count": 9,
   "metadata": {},
   "outputs": [
    {
     "data": {
      "text/html": [
       "<div>\n",
       "<style scoped>\n",
       "    .dataframe tbody tr th:only-of-type {\n",
       "        vertical-align: middle;\n",
       "    }\n",
       "\n",
       "    .dataframe tbody tr th {\n",
       "        vertical-align: top;\n",
       "    }\n",
       "\n",
       "    .dataframe thead th {\n",
       "        text-align: right;\n",
       "    }\n",
       "</style>\n",
       "<table border=\"1\" class=\"dataframe\">\n",
       "  <thead>\n",
       "    <tr style=\"text-align: right;\">\n",
       "      <th></th>\n",
       "      <th>Time_a</th>\n",
       "      <th>Time_e</th>\n",
       "      <th>Location</th>\n",
       "      <th>호우경보</th>\n",
       "    </tr>\n",
       "  </thead>\n",
       "  <tbody>\n",
       "    <tr>\n",
       "      <th>38</th>\n",
       "      <td>2004-07-12 23:00:00</td>\n",
       "      <td>(1) 호우경보 : 2004년 07월 12일 23시 00분</td>\n",
       "      <td>(1) 호우경보 : 강원도(속초시, 고성군, 양양군, 철원군, 화천군, 홍천군, 춘...</td>\n",
       "      <td>1</td>\n",
       "    </tr>\n",
       "    <tr>\n",
       "      <th>39</th>\n",
       "      <td>2004-07-13 09:00:00</td>\n",
       "      <td>(1) 호우경보 : 2004년 07월 13일 09시 00분(2) 호우주의보 : 20...</td>\n",
       "      <td>(1) 호우경보 : 강원도(속초시, 고성군, 양양군, 철원군, 화천군, 홍천군, 춘...</td>\n",
       "      <td>1</td>\n",
       "    </tr>\n",
       "    <tr>\n",
       "      <th>346</th>\n",
       "      <td>2005-07-28 13:00:00</td>\n",
       "      <td>(1) 호우경보 대치 : 2005년 07월 28일 13시 00분</td>\n",
       "      <td>(1) 호우경보 대치 : 강원도(춘천시)</td>\n",
       "      <td>1</td>\n",
       "    </tr>\n",
       "    <tr>\n",
       "      <th>348</th>\n",
       "      <td>2005-07-28 16:30:00</td>\n",
       "      <td>(1) 호우경보 해제 : 2005년 07월 28일 17시 00분(2) 호우주의보 해...</td>\n",
       "      <td>(1) 호우경보 해제 : 강원도(춘천시)(2) 호우주의보 해제 : 강원도(고성군, ...</td>\n",
       "      <td>1</td>\n",
       "    </tr>\n",
       "    <tr>\n",
       "      <th>699</th>\n",
       "      <td>2006-07-12 11:00:00</td>\n",
       "      <td>(1) 호우경보 대치 : 2006년 07월 12일 11시 00분</td>\n",
       "      <td>(1) 호우경보 대치 : 강원도(횡성군, 철원군, 화천군, 홍천군, 춘천시, 양구군...</td>\n",
       "      <td>1</td>\n",
       "    </tr>\n",
       "    <tr>\n",
       "      <th>...</th>\n",
       "      <td>...</td>\n",
       "      <td>...</td>\n",
       "      <td>...</td>\n",
       "      <td>...</td>\n",
       "    </tr>\n",
       "    <tr>\n",
       "      <th>11995</th>\n",
       "      <td>2018-08-28 19:50:00</td>\n",
       "      <td>(1) 호우경보 대치 : 2018년 08월 28일 19시 50분</td>\n",
       "      <td>(1) 호우경보 대치 : 강원도(춘천)</td>\n",
       "      <td>1</td>\n",
       "    </tr>\n",
       "    <tr>\n",
       "      <th>12007</th>\n",
       "      <td>2018-08-29 05:30:00</td>\n",
       "      <td>(1) 호우경보 해제 : 2018년 08월 29일 05시 30분</td>\n",
       "      <td>(1) 호우경보 해제 : 강원도(춘천)</td>\n",
       "      <td>1</td>\n",
       "    </tr>\n",
       "    <tr>\n",
       "      <th>12010</th>\n",
       "      <td>2018-08-29 09:10:00</td>\n",
       "      <td>(1) 호우경보 대치 : 2018년 08월 29일 09시 10분</td>\n",
       "      <td>(1) 호우경보 대치 : 강원도(춘천)</td>\n",
       "      <td>1</td>\n",
       "    </tr>\n",
       "    <tr>\n",
       "      <th>12014</th>\n",
       "      <td>2018-08-30 04:00:00</td>\n",
       "      <td>(1) 호우경보 해제 : 2018년 08월 30일 04시 00분</td>\n",
       "      <td>(1) 호우경보 해제 : 강원도(강원북부산지, 양구평지, 인제평지, 춘천, 화천, 철원)</td>\n",
       "      <td>1</td>\n",
       "    </tr>\n",
       "    <tr>\n",
       "      <th>12456</th>\n",
       "      <td>2019-07-26 09:20:00</td>\n",
       "      <td>(1) 호우경보 변경 : 2019년 07월 26일 09시 20분</td>\n",
       "      <td>(1) 호우경보 변경 : 강원도(양구평지, 홍천평지, 춘천)</td>\n",
       "      <td>1</td>\n",
       "    </tr>\n",
       "  </tbody>\n",
       "</table>\n",
       "<p>69 rows × 4 columns</p>\n",
       "</div>"
      ],
      "text/plain": [
       "                   Time_a                                             Time_e  \\\n",
       "38    2004-07-12 23:00:00                   (1) 호우경보 : 2004년 07월 12일 23시 00분   \n",
       "39    2004-07-13 09:00:00  (1) 호우경보 : 2004년 07월 13일 09시 00분(2) 호우주의보 : 20...   \n",
       "346   2005-07-28 13:00:00                (1) 호우경보 대치 : 2005년 07월 28일 13시 00분   \n",
       "348   2005-07-28 16:30:00  (1) 호우경보 해제 : 2005년 07월 28일 17시 00분(2) 호우주의보 해...   \n",
       "699   2006-07-12 11:00:00                (1) 호우경보 대치 : 2006년 07월 12일 11시 00분   \n",
       "...                   ...                                                ...   \n",
       "11995 2018-08-28 19:50:00                (1) 호우경보 대치 : 2018년 08월 28일 19시 50분   \n",
       "12007 2018-08-29 05:30:00                (1) 호우경보 해제 : 2018년 08월 29일 05시 30분   \n",
       "12010 2018-08-29 09:10:00                (1) 호우경보 대치 : 2018년 08월 29일 09시 10분   \n",
       "12014 2018-08-30 04:00:00                (1) 호우경보 해제 : 2018년 08월 30일 04시 00분   \n",
       "12456 2019-07-26 09:20:00                (1) 호우경보 변경 : 2019년 07월 26일 09시 20분   \n",
       "\n",
       "                                                Location  호우경보  \n",
       "38     (1) 호우경보 : 강원도(속초시, 고성군, 양양군, 철원군, 화천군, 홍천군, 춘...     1  \n",
       "39     (1) 호우경보 : 강원도(속초시, 고성군, 양양군, 철원군, 화천군, 홍천군, 춘...     1  \n",
       "346                               (1) 호우경보 대치 : 강원도(춘천시)     1  \n",
       "348    (1) 호우경보 해제 : 강원도(춘천시)(2) 호우주의보 해제 : 강원도(고성군, ...     1  \n",
       "699    (1) 호우경보 대치 : 강원도(횡성군, 철원군, 화천군, 홍천군, 춘천시, 양구군...     1  \n",
       "...                                                  ...   ...  \n",
       "11995                              (1) 호우경보 대치 : 강원도(춘천)     1  \n",
       "12007                              (1) 호우경보 해제 : 강원도(춘천)     1  \n",
       "12010                              (1) 호우경보 대치 : 강원도(춘천)     1  \n",
       "12014  (1) 호우경보 해제 : 강원도(강원북부산지, 양구평지, 인제평지, 춘천, 화천, 철원)     1  \n",
       "12456                  (1) 호우경보 변경 : 강원도(양구평지, 홍천평지, 춘천)     1  \n",
       "\n",
       "[69 rows x 4 columns]"
      ]
     },
     "execution_count": 9,
     "metadata": {},
     "output_type": "execute_result"
    }
   ],
   "source": [
    "useful"
   ]
  },
  {
   "cell_type": "code",
   "execution_count": 10,
   "metadata": {},
   "outputs": [],
   "source": [
    "useful.drop(['Time_e','Location'],inplace=True,axis=1)"
   ]
  },
  {
   "cell_type": "code",
   "execution_count": 11,
   "metadata": {},
   "outputs": [],
   "source": [
    "useful.to_csv('../Dam_weather_warning/HeavyRainWrn.csv',encoding='euc-kr')"
   ]
  },
  {
   "cell_type": "code",
   "execution_count": null,
   "metadata": {},
   "outputs": [],
   "source": []
  }
 ],
 "metadata": {
  "kernelspec": {
   "display_name": "Python 3",
   "language": "python",
   "name": "python3"
  },
  "language_info": {
   "codemirror_mode": {
    "name": "ipython",
    "version": 3
   },
   "file_extension": ".py",
   "mimetype": "text/x-python",
   "name": "python",
   "nbconvert_exporter": "python",
   "pygments_lexer": "ipython3",
   "version": "3.8.5"
  }
 },
 "nbformat": 4,
 "nbformat_minor": 4
}
