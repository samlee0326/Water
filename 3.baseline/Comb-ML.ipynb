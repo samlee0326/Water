{
 "cells": [
  {
   "cell_type": "code",
   "execution_count": null,
   "id": "revolutionary-bhutan",
   "metadata": {},
   "outputs": [],
   "source": [
    "#!pip install ipynb"
   ]
  },
  {
   "cell_type": "code",
   "execution_count": null,
   "id": "impressed-thickness",
   "metadata": {},
   "outputs": [],
   "source": [
    "from ipynb.fs.full.CommonFunctions import col_lagger,split_sequences\n",
    "import pandas as pd\n",
    "import numpy as np\n",
    "import hydroeval as he\n",
    "import seaborn as sns\n",
    "from sklearn.multioutput import MultiOutputRegressor\n",
    "from sklearn.preprocessing import StandardScaler\n",
    "import matplotlib as mpl\n",
    "import matplotlib.pyplot as plt\n",
    "from sklearn.model_selection import train_test_split\n",
    "from sklearn.metrics import mean_squared_error,r2_score,mean_absolute_error,max_error\n",
    "import os\n",
    "import warnings\n",
    "from sklearn.ensemble import RandomForestRegressor\n",
    "from sklearn.neural_network import MLPRegressor\n",
    "from sklearn.ensemble import GradientBoostingRegressor"
   ]
  },
  {
   "cell_type": "code",
   "execution_count": null,
   "id": "collaborative-immune",
   "metadata": {},
   "outputs": [],
   "source": [
    "warnings.filterwarnings('ignore')\n",
    "\n",
    "plt.style.use('ggplot')\n",
    "mpl.rcParams['axes.unicode_minus'] = False\n",
    "plt.rcParams[\"font.family\"] = 'Nanum Brush Script OTF'\n",
    "mpl.rcParams['axes.unicode_minus'] = False\n",
    "plt.rcParams[\"font.family\"] = 'NanumGothic'\n",
    "plt.rcParams['font.size'] = 12\n",
    "plt.rcParams['xtick.labelsize'] = 12\n",
    "plt.rcParams['ytick.labelsize'] = 12\n",
    "plt.rcParams['axes.labelsize'] = 12\n",
    "\n",
    "CB91_Blue = '#2CBDFE'\n",
    "CB91_Green = '#47DBCD'\n",
    "CB91_Pink = '#F3A0F2'\n",
    "CB91_Purple = '#9D2EC5'\n",
    "CB91_Violet = '#661D98'\n",
    "CB91_Amber = '#F5B14C'\n",
    "\n",
    "color_list = [CB91_Blue, \n",
    "              CB91_Pink, \n",
    "              CB91_Green, \n",
    "              CB91_Amber,\n",
    "              CB91_Purple, \n",
    "              CB91_Violet]\n",
    "\n",
    "plt.rcParams['axes.prop_cycle'] = plt.cycler(color=color_list)\n",
    "\n",
    "seed = 42\n",
    "np.random.seed(seed)"
   ]
  },
  {
   "cell_type": "code",
   "execution_count": null,
   "id": "metropolitan-karaoke",
   "metadata": {},
   "outputs": [],
   "source": [
    "df = pd.read_csv('..//Processed_data//weather_dam_wrn.csv',encoding='cp949',index_col=[0])\n",
    "df.index = pd.to_datetime(df.index)"
   ]
  },
  {
   "cell_type": "code",
   "execution_count": null,
   "id": "appointed-lemon",
   "metadata": {},
   "outputs": [],
   "source": [
    "df[['강우량(mm)+1']] = df[['강우량(mm)']].shift(-1)\n",
    "#df[['강우량(mm)+2']] = df[['강우량(mm)']].shift(-2)\n",
    "df = col_lagger(df,'강우량(mm)',7)\n",
    "df = col_lagger(df,'유입량(㎥/s)',7)\n",
    "df = col_lagger(df,'최저기온(°C)',7)\n",
    "df = col_lagger(df,'최고기온(°C)',7)\n",
    "df = col_lagger(df,'평균 풍속(m/s)',7)\n",
    "df = col_lagger(df,'호우경보',7)\n",
    "df = col_lagger(df,'평균 상대습도(%)',7)\n",
    "df = col_lagger(df,'합계 일사량(MJ/m2)',7)"
   ]
  },
  {
   "cell_type": "code",
   "execution_count": null,
   "id": "emerging-manchester",
   "metadata": {},
   "outputs": [],
   "source": [
    "df = df.drop(columns=['최저기온(°C)', '최고기온(°C)', \n",
    "                      '평균 풍속(m/s)', '평균 상대습도(%)',\n",
    "                      '합계 일사량(MJ/m2)','호우경보'])\n",
    "df = df.dropna()"
   ]
  },
  {
   "cell_type": "code",
   "execution_count": null,
   "id": "leading-african",
   "metadata": {},
   "outputs": [],
   "source": [
    "X = df[[c for c in df.columns if '유입량(㎥/s)'  != c]].values\n",
    "y = df[['유입량(㎥/s)']].values\n",
    "\n",
    "data_stacked = np.hstack((X,y))\n",
    "\n",
    "del X\n",
    "del y\n",
    "X,y = split_sequences(data_stacked,1,2)\n",
    "train_length = int(df.shape[0]*0.8)\n",
    "\n",
    "train_X , train_y = X[:train_length, :] , y[:train_length, :]\n",
    "test_X , test_y = X[train_length:, :] , y[train_length:, :]\n",
    "\n",
    "df_100 = df[df['유입량(㎥/s)'] > 100]\n",
    "df_100_mean = df_100['강우량(mm)'].mean()"
   ]
  },
  {
   "cell_type": "markdown",
   "id": "ranging-dutch",
   "metadata": {},
   "source": [
    "# Scaling X and y"
   ]
  },
  {
   "cell_type": "code",
   "execution_count": null,
   "id": "utility-crystal",
   "metadata": {},
   "outputs": [],
   "source": [
    "train_idx = []\n",
    "for i, train in enumerate(train_X):\n",
    "    if train[0][0] > df_100_mean:\n",
    "        train_idx.append(i)"
   ]
  },
  {
   "cell_type": "code",
   "execution_count": null,
   "id": "postal-office",
   "metadata": {},
   "outputs": [],
   "source": [
    "test_idx = []\n",
    "for i, test in enumerate(test_X):\n",
    "    if test[0][0] > df_100_mean:\n",
    "        test_idx.append(i)"
   ]
  },
  {
   "cell_type": "code",
   "execution_count": null,
   "id": "secret-swing",
   "metadata": {},
   "outputs": [],
   "source": [
    "scaler1x = StandardScaler()\n",
    "scaler1y = StandardScaler()\n",
    "\n",
    "#Scale X\n",
    "train_X_prescaled = train_X.reshape(train_X.shape[0],-1)\n",
    "train_X1 = scaler1x.fit_transform(train_X_prescaled).reshape(train_X_prescaled.shape[0],-1)#,train_X_prescaled.shape[-1])\n",
    "\n",
    "test_X_prescaled = test_X.reshape(test_X.shape[0],-1)\n",
    "test_X1 = scaler1x.transform(test_X_prescaled).reshape(test_X.shape[0],-1)#,test_X.shape[-1])\n",
    "\n",
    "#Scale y\n",
    "train_y_prescaled = train_y.reshape(train_y.shape[0],-1)\n",
    "train_y1 = scaler1y.fit_transform(train_y_prescaled).reshape(train_y.shape[0],-1)#,train_y.shape[-1])\n",
    "\n",
    "test_y_prescaled = test_y.reshape(test_y.shape[0],-1)\n",
    "test_y1 = scaler1y.transform(test_y_prescaled).reshape(test_y.shape[0],-1)#,test_y.shape[-1])"
   ]
  },
  {
   "cell_type": "code",
   "execution_count": null,
   "id": "approximate-ontario",
   "metadata": {},
   "outputs": [],
   "source": [
    "print(train_X1.shape)\n",
    "print(test_X1.shape)\n",
    "print(train_y1.shape)\n",
    "print(test_y1.shape)"
   ]
  },
  {
   "cell_type": "markdown",
   "id": "valid-arabic",
   "metadata": {},
   "source": [
    "# Selecting those who are greater than 100"
   ]
  },
  {
   "cell_type": "code",
   "execution_count": null,
   "id": "careful-pattern",
   "metadata": {},
   "outputs": [],
   "source": [
    "train_X_ge_100 = train_X1[train_idx,:]\n",
    "test_X_ge_100 = test_X1[test_idx,:]\n",
    "train_y1_ge_100 = train_y1[train_idx,:]\n",
    "test_y1_ge_100 = test_y1[test_idx,:]"
   ]
  },
  {
   "cell_type": "code",
   "execution_count": null,
   "id": "fancy-detective",
   "metadata": {},
   "outputs": [],
   "source": [
    "print(train_X_ge_100.shape)\n",
    "print(train_y1_ge_100.shape)\n",
    "print(test_X_ge_100.shape)\n",
    "print(test_y1_ge_100.shape)"
   ]
  },
  {
   "cell_type": "markdown",
   "id": "agricultural-brisbane",
   "metadata": {},
   "source": [
    "# Selecting those who are less than 100"
   ]
  },
  {
   "cell_type": "code",
   "execution_count": null,
   "id": "analyzed-tumor",
   "metadata": {},
   "outputs": [],
   "source": [
    "tr_idx = [i for i in range(train_length)]\n",
    "te_idx = [i for i in range(1130)]"
   ]
  },
  {
   "cell_type": "code",
   "execution_count": null,
   "id": "congressional-marker",
   "metadata": {},
   "outputs": [],
   "source": [
    "tr_le_100 = []\n",
    "te_le_100 = []\n",
    "\n",
    "for i in tr_idx:\n",
    "    if i not in train_idx:\n",
    "        tr_le_100.append(i)\n",
    "\n",
    "for i in te_idx:\n",
    "    if i not in test_idx:\n",
    "        te_le_100.append(i)"
   ]
  },
  {
   "cell_type": "code",
   "execution_count": null,
   "id": "humanitarian-quebec",
   "metadata": {},
   "outputs": [],
   "source": [
    "train_X_le_100 = train_X1[tr_le_100,:]\n",
    "test_X_le_100 = test_X1[te_le_100,:]\n",
    "train_y1_le_100 = train_y1[tr_le_100,:]\n",
    "test_y1_le_100 = test_y1[te_le_100,:]"
   ]
  },
  {
   "cell_type": "code",
   "execution_count": null,
   "id": "suburban-execution",
   "metadata": {},
   "outputs": [],
   "source": [
    "print(train_X_le_100.shape)\n",
    "print(train_y1_le_100.shape)\n",
    "print(test_X_le_100.shape)\n",
    "print(test_y1_le_100.shape)"
   ]
  },
  {
   "cell_type": "markdown",
   "id": "conservative-blast",
   "metadata": {},
   "source": [
    "# Running MLP with inflow greater than 100"
   ]
  },
  {
   "cell_type": "code",
   "execution_count": null,
   "id": "prescription-handle",
   "metadata": {},
   "outputs": [],
   "source": [
    "mlp = MLPRegressor(activation = 'logistic',\n",
    "                   batch_size = 32,\n",
    "                   hidden_layer_sizes = (100,100,100),\n",
    "                   learning_rate = 'constant',\n",
    "                   shuffle = False,\n",
    "                   solver = 'lbfgs')\n",
    "\n",
    "wrapper_mlp = MultiOutputRegressor(mlp)\n",
    "\n",
    "test_y1_ge_100_inv = scaler1y.inverse_transform(test_y1_ge_100)\n",
    "\n",
    "#MLP\n",
    "mlp2 = wrapper_mlp.fit(train_X_ge_100,train_y1_ge_100)\n",
    "mlp_pred = mlp2.predict(test_X_ge_100)\n",
    "mlp_pred_inv = scaler1y.inverse_transform(mlp_pred)"
   ]
  },
  {
   "cell_type": "markdown",
   "id": "superior-celebration",
   "metadata": {},
   "source": [
    "# Running GB with inflow less than 100"
   ]
  },
  {
   "cell_type": "code",
   "execution_count": null,
   "id": "hazardous-liberia",
   "metadata": {},
   "outputs": [],
   "source": [
    "gb = GradientBoostingRegressor(criterion = 'mse',\n",
    "                               learning_rate = 0.1,\n",
    "                               loss = 'ls',\n",
    "                               n_estimators = 300)\n",
    "\n",
    "\n",
    "wrapper_gb = MultiOutputRegressor(gb)\n",
    "\n",
    "test_y1_le_100_inv = scaler1y.inverse_transform(test_y1_le_100)\n",
    "\n",
    "#gb2\n",
    "gb2 = wrapper_gb.fit(train_X_le_100,train_y1_le_100)\n",
    "gb_pred = gb2.predict(test_X_le_100)\n",
    "gb_pred_inv = scaler1y.inverse_transform(gb_pred)"
   ]
  },
  {
   "cell_type": "markdown",
   "id": "retired-transmission",
   "metadata": {},
   "source": [
    "# Running rf with inflow less than 100"
   ]
  },
  {
   "cell_type": "code",
   "execution_count": null,
   "id": "affiliated-listing",
   "metadata": {},
   "outputs": [],
   "source": [
    "rf = RandomForestRegressor(criterion = 'mse',\n",
    "                               max_features = 'auto',\n",
    "                               n_estimators = 100)\n",
    "\n",
    "\n",
    "wrapper_gb = MultiOutputRegressor(rf)\n",
    "\n",
    "test_y1_le_100_inv = scaler1y.inverse_transform(test_y1_le_100)\n",
    "\n",
    "#gb2\n",
    "rf2 = wrapper_gb.fit(train_X_le_100,train_y1_le_100)\n",
    "rf_pred = rf2.predict(test_X_le_100)\n",
    "rf_pred_inv = scaler1y.inverse_transform(rf_pred)"
   ]
  },
  {
   "cell_type": "markdown",
   "id": "heard-coordinate",
   "metadata": {},
   "source": [
    "# GB_MLP"
   ]
  },
  {
   "cell_type": "code",
   "execution_count": null,
   "id": "threaded-knitting",
   "metadata": {},
   "outputs": [],
   "source": [
    "gb_mlp_pred  = np.vstack((mlp_pred_inv,gb_pred_inv))\n",
    "print(gb_mlp_pred.shape)\n",
    "gb_mlp_real = np.vstack((test_y1_ge_100_inv,test_y1_le_100_inv))\n",
    "print(gb_mlp_real.shape)"
   ]
  },
  {
   "cell_type": "markdown",
   "id": "binding-significance",
   "metadata": {},
   "source": [
    "# RF_MLP"
   ]
  },
  {
   "cell_type": "code",
   "execution_count": null,
   "id": "operating-participation",
   "metadata": {},
   "outputs": [],
   "source": [
    "rf_mlp_pred  = np.vstack((mlp_pred_inv,rf_pred_inv))\n",
    "print(rf_mlp_pred.shape)"
   ]
  },
  {
   "cell_type": "code",
   "execution_count": null,
   "id": "possible-bearing",
   "metadata": {},
   "outputs": [],
   "source": [
    "rf_mlp_real = np.vstack((test_y1_ge_100_inv,test_y1_le_100_inv))\n",
    "print(gb_mlp_real.shape)"
   ]
  },
  {
   "cell_type": "code",
   "execution_count": null,
   "id": "cutting-bishop",
   "metadata": {},
   "outputs": [],
   "source": [
    "print('..... RF MLP ..... ')\n",
    "print('*'*40)\n",
    "print(f'RMSE for the first day: {mean_squared_error(rf_mlp_real[:,0],rf_mlp_pred[:,0],squared=False)}')\n",
    "print(f'MAE for the first day: {mean_absolute_error(rf_mlp_real[:,0],rf_mlp_pred[:,0])}\\n')\n",
    "\n",
    "print()\n",
    "print(f'RMSE for the second day: {mean_squared_error(rf_mlp_real[:,1],rf_mlp_pred[:,1],squared=False)}')\n",
    "print(f'MAE for the second day: {mean_absolute_error(rf_mlp_real[:,1],rf_mlp_pred[:,1])}\\n')\n",
    "\n",
    "print()\n",
    "print(f'NSE : {he.nse(rf_mlp_real,rf_mlp_pred)}')\n",
    "print()"
   ]
  },
  {
   "cell_type": "code",
   "execution_count": null,
   "id": "fancy-caribbean",
   "metadata": {},
   "outputs": [],
   "source": []
  }
 ],
 "metadata": {
  "kernelspec": {
   "display_name": "Python 3",
   "language": "python",
   "name": "python3"
  },
  "language_info": {
   "codemirror_mode": {
    "name": "ipython",
    "version": 3
   },
   "file_extension": ".py",
   "mimetype": "text/x-python",
   "name": "python",
   "nbconvert_exporter": "python",
   "pygments_lexer": "ipython3",
   "version": "3.8.5"
  }
 },
 "nbformat": 4,
 "nbformat_minor": 5
}
